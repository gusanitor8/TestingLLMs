{
 "cells": [
  {
   "cell_type": "code",
   "execution_count": 16,
   "metadata": {
    "id": "45A7JSOKE3v2"
   },
   "outputs": [],
   "source": [
    "from transformers import AutoTokenizer\n",
    "import transformers\n",
    "import time\n",
    "import psutil\n",
    "import os"
   ]
  },
  {
   "cell_type": "markdown",
   "metadata": {
    "id": "R0vZOka-lH6k"
   },
   "source": [
    "# TinyLlama_v1.1\n",
    "\n",
    "``` commandline\n",
    "Recursos:\n",
    "    - Memoria:  \n",
    "        - VRAM requerida: 0.4 GB  \n",
    "        - Memoria Utilizada: 3893.28125 MB  \n",
    "Tiempo: 73.6088s    \n",
    "Calidad de respuesta:  \n",
    "    - WinoGrande (Common Sense Reasoning Accuracy): 1.23  \n",
    "    - LLME: 0.41034  \n",
    "```"
   ]
  },
  {
   "cell_type": "code",
   "execution_count": 17,
   "metadata": {
    "id": "kysHSFPhE56O"
   },
   "outputs": [],
   "source": [
    "model = \"TinyLlama/TinyLlama_v1.1\"\n",
    "# model = \"Doctor-Shotgun/TinyLlama-1.1B-32k-Instruct\"\n",
    "tokenizer = AutoTokenizer.from_pretrained(model)\n",
    "\n",
    "pipeline = transformers.pipeline(\n",
    "    \"text-generation\",\n",
    "    model=model,\n",
    "    tokenizer=tokenizer\n",
    ")"
   ]
  },
  {
   "cell_type": "code",
   "execution_count": 18,
   "metadata": {
    "colab": {
     "base_uri": "https://localhost:8080/"
    },
    "id": "fejhTy93FRm3",
    "outputId": "1993fa9b-fa43-4f11-d698-ff78847f392f"
   },
   "outputs": [
    {
     "name": "stdout",
     "output_type": "stream",
     "text": [
      "Tiempo de respuesta: 73.60885095596313 segundos\n",
      "Memoria usada: 3893.28125 MB\n",
      "Explain to me the difference between nuclear fission and fusion.f you are not sure, please check here f.\n"
     ]
    }
   ],
   "source": [
    "prompt = \"Explain to me the difference between nuclear fission and fusion.\"\n",
    "\n",
    "# We begin measuraments\n",
    "start_time = time.time()\n",
    "process = psutil.Process(os.getpid())\n",
    "memory_before = process.memory_info().rss / 1024 ** 2  # en MB\n",
    "\n",
    "# We execute the model\n",
    "response = pipeline(\n",
    "    prompt,\n",
    "    max_length=500,\n",
    "    truncation = True,\n",
    "    do_sample=True,\n",
    "    top_k=10,\n",
    "    num_return_sequences=1,\n",
    "    eos_token_id=tokenizer.eos_token_id,\n",
    ")\n",
    "\n",
    "# We end the masuraments\n",
    "end_time = time.time()\n",
    "memory_after = process.memory_info().rss / 1024 ** 2  # en MB\n",
    "\n",
    "print(f\"Tiempo de respuesta: {end_time - start_time} segundos\")\n",
    "print(f\"Memoria usada: {memory_after - memory_before} MB\")\n",
    "print(response[0]['generated_text'])"
   ]
  },
  {
   "cell_type": "markdown",
   "metadata": {
    "id": "VDvRYYL4lETK"
   },
   "source": [
    "# TinyLlama-1.1B-32k-Instruct\n",
    "\n",
    "``` commandline\n",
    "Recursos:\n",
    "    - Memoria:  \n",
    "        - VRAM requerida: 2.2 GB  \n",
    "        - Memoria Utilizada: 3398.83203125 MB\n",
    "Tiempo: 281.249s\n",
    "Calidad de respuesta:  \n",
    "    - LLME Score: 0.20788\n",
    "```"
   ]
  },
  {
   "cell_type": "code",
   "execution_count": 19,
   "metadata": {
    "id": "a5CaRM8nIV6Z"
   },
   "outputs": [],
   "source": [
    "model2 = \"Doctor-Shotgun/TinyLlama-1.1B-32k-Instruct\"\n",
    "tokenizer2 = AutoTokenizer.from_pretrained(model2)\n",
    "\n",
    "pipeline2 = transformers.pipeline(\n",
    "    \"text-generation\",\n",
    "    model=model2,\n",
    "    tokenizer=tokenizer2\n",
    ")"
   ]
  },
  {
   "cell_type": "code",
   "execution_count": 20,
   "metadata": {
    "colab": {
     "base_uri": "https://localhost:8080/"
    },
    "id": "otcmdYTAIe_G",
    "outputId": "31fd6927-bf08-431e-94a7-9c95e8de0e46"
   },
   "outputs": [
    {
     "name": "stdout",
     "output_type": "stream",
     "text": [
      "Tiempo de respuesta: 281.249694108963 segundos\n",
      "Memoria usada: -3398.83203125 MB\n",
      "Explain to me the difference between nuclear fission and fusion.\n",
      "What's so special about the sun and nuclear fusion that it's so different?\n",
      "How does fusion work compared to fission?\n",
      "When did nuclear fusion become an option in fusion?\n",
      "When was nuclear fusion first used and who used it?\n",
      "Who was the first to use nuclear fusion?\n",
      "When did nuclear fusion become an option and who used it for commercial purposes?\n",
      "How long does a fuel pellet last for a nuclear reactor?\n",
      "What is the difference between nuclear power and nuclear reactors?\n",
      "How long can nuclear reactors last?\n",
      "What are some other types of nuclear reactors?\n",
      "What are some other uses for nuclear reactors?\n",
      "What are some of the problems with nuclear reactors and nuclear power in general?\n",
      "What are some of the advantages of nuclear reactors?\n",
      "Is the future of nuclear power?\n",
      "What do you think about nuclear power?\n",
      "What is the potential for nuclear power and fusion?\n",
      "Why is fusion energy important?\n",
      "When was fusion achieved and how?\n",
      "When was fusion achieved, and what was the result of its first successful fusion?\n",
      "Why are fusion and nuclear power often called \"the future of energy\"?\n",
      "When did the world's largest fusion reactor reach criticality and produce the first stable isotope?\n",
      "When was the world's first commercial nuclear power reactor opened, and what made it successful?\n",
      "What happened with nuclear reactors and the nuclear power industry after the Chernobyl accident?\n",
      "What is the future of nuclear power?\n",
      "When was the Fukushima nuclear accident and what was the result of it?\n",
      "When will humanity have the capacity to create nuclear fuel and nuclear reactor technologies that can be used to produce energy?\n",
      "Is it possible that humanity will be able to create nuclear fusion reactors?\n",
      "Is fusion energy the next big thing in renewable energy?\n",
      "How do I start learning about and researching fusion energy?\n",
      "What is the potential for fusion energy to replace fossil fuels?\n",
      "Can humans use a fusion reactor for electricity?\n",
      "Can fusion energy ever become practical?\n",
      "What is the most efficient method to make fusion energy?\n",
      "How long would it take to convert all of humanity's energy needs, using fusion energy, if we could use it?\n",
      "Can nuclear fusion become a more significant part of the\n"
     ]
    }
   ],
   "source": [
    "prompt = \"Explain to me the difference between nuclear fission and fusion.\"\n",
    "\n",
    "# We begin measuraments\n",
    "start_time = time.time()\n",
    "process = psutil.Process(os.getpid())\n",
    "memory_before = process.memory_info().rss / 1024 ** 2  # en MB\n",
    "\n",
    "response2 = pipeline2(\n",
    "    prompt,\n",
    "    max_length=500,\n",
    "    truncation = True,\n",
    "    do_sample=True,\n",
    "    top_k=10,\n",
    "    num_return_sequences=1,\n",
    "    eos_token_id=tokenizer2.eos_token_id,\n",
    ")\n",
    "\n",
    "# We end the masuraments\n",
    "end_time = time.time()\n",
    "memory_after = process.memory_info().rss / 1024 ** 2  # en MB\n",
    "\n",
    "print(f\"Tiempo de respuesta: {end_time - start_time} segundos\")\n",
    "print(f\"Memoria usada: {memory_after - memory_before} MB\")\n",
    "print(response2[0]['generated_text'])"
   ]
  },
  {
   "cell_type": "markdown",
   "metadata": {
    "id": "kW2ct-dyk97l"
   },
   "source": [
    "# DistilGPT2\n",
    "\n",
    "``` commandline\n",
    "Recursos:\n",
    "    - Memoria:  \n",
    "        - VRAM requerida: 0.4 GB\n",
    "        - Memoria Utilizada: 309.2890625 MB\n",
    "Tiempo: 29.006574392318726 s\n",
    "Calidad de respuesta:  \n",
    "    - LLME Score: 0.135\n",
    "    - GPQA: 1.23\n",
    "```"
   ]
  },
  {
   "cell_type": "code",
   "execution_count": 21,
   "metadata": {
    "id": "Vxg-StlYJycg"
   },
   "outputs": [],
   "source": [
    "model3 = \"distilgpt2\"\n",
    "tokenizer3 = AutoTokenizer.from_pretrained(model3)\n",
    "\n",
    "pipeline3 = transformers.pipeline(\n",
    "    \"text-generation\",\n",
    "    model=model3,\n",
    "    tokenizer=tokenizer3\n",
    ")"
   ]
  },
  {
   "cell_type": "code",
   "execution_count": 22,
   "metadata": {
    "colab": {
     "base_uri": "https://localhost:8080/"
    },
    "id": "CVd8rkvlJ_0b",
    "outputId": "a9780282-82a7-47e3-aa69-233d7899a8a1"
   },
   "outputs": [
    {
     "name": "stderr",
     "output_type": "stream",
     "text": [
      "Setting `pad_token_id` to `eos_token_id`:None for open-end generation.\n"
     ]
    },
    {
     "name": "stdout",
     "output_type": "stream",
     "text": [
      "Tiempo de respuesta: 29.006574392318726 segundos\n",
      "Memoria usada: 309.2890625 MB\n",
      "Explain to me the difference between nuclear fission and fusion. The difference between the two types would be the two types of nuclear reactors: A nuclear reactor and a fusion reactor. The difference between the two types would be the two types of nuclear reactors: A nuclear reactor and a fusion reactor. Nuclear plants are not nuclear plants; they are nuclear plants.\n",
      "\n",
      "\n",
      "\n",
      "The following table shows the types of nuclear reactors (with different types of reactors) that can be used for nuclear reactors:\n",
      "For example, the reactor is a reactor with three types of fuel: the reactor has four types of fuel; the reactor has three types of fuel; the reactor has three types of fuel; the reactor has one type of fuel; the reactor has three type of fuel; and the reactor has three type of fuel. The two types of fuel are: the reactor has three types of fuel; the reactor has one type of fuel; the reactor has two type of fuel; and the reactor has two kind of fuel. The two types of fuel are both fuel and fuel, respectively.\n",
      "To see the difference between the two types of fuel and the reactor in terms of the two types of fuel, see Figure 1 below.\n",
      "The difference between the two types of fuel and the reactor in terms of the two types of fuel, see Figure 1 below.\n",
      "The difference between the two types of fuel and the reactor in terms of the two types of fuel, see Figure 1 below.\n",
      "The differences between the two type of fuel and the reactor in terms of the two types of fuel, see Figure 1 below.\n",
      "The difference between the two types of fuel and the reactor in terms of the two types of fuel, see Figure 1 below.\n",
      "The difference between the two types of fuel and the reactor in terms of the two types of fuel, see Figure 1 below.\n",
      "The difference between the two types of fuel and the reactor in terms of the two types of fuel, see Figure 1 below.\n",
      "The difference between the two types of fuel and the reactor in terms of the two types of fuel, see Figure 1 below.\n",
      "The difference between the two type of fuel and the reactor in terms of the two types of fuel, see Figure 1 below.\n",
      "The difference between the two types of fuel and the reactor in terms of the two types of fuel, see Figure 1 below.\n",
      "The difference between the two types of fuel and the reactor in terms of the two types of fuel, see\n"
     ]
    }
   ],
   "source": [
    "prompt = \"Explain to me the difference between nuclear fission and fusion.\"\n",
    "\n",
    "# We begin measuraments\n",
    "start_time = time.time()\n",
    "process = psutil.Process(os.getpid())\n",
    "memory_before = process.memory_info().rss / 1024 ** 2  # en MB\n",
    "\n",
    "response3 = pipeline3(\n",
    "    prompt,\n",
    "    max_length=500,\n",
    "    truncation = True,\n",
    "    do_sample=True,\n",
    "    top_k=10,\n",
    "    num_return_sequences=1,\n",
    "    eos_token_id=tokenizer2.eos_token_id,\n",
    ")\n",
    "\n",
    "# We end the masuraments\n",
    "end_time = time.time()\n",
    "memory_after = process.memory_info().rss / 1024 ** 2  # en MB\n",
    "\n",
    "print(f\"Tiempo de respuesta: {end_time - start_time} segundos\")\n",
    "print(f\"Memoria usada: {memory_after - memory_before} MB\")\n",
    "print(response3[0]['generated_text'])"
   ]
  },
  {
   "cell_type": "markdown",
   "metadata": {},
   "source": [
    "# Comparación de Diferentes Modelos\n",
    "Los tres modelos evaluados intentaron responder sobre la diferencia entre fisión y fusión nuclear, con resultados variados. DistGPT2 fue el más rápido (29 segundos) pero generó una respuesta incoherente con muchas repeticiones sin sentido. Esto muestra que, aunque es rápido, su capacidad de estructurar información y brindar una explicación clara es limitada, especialmente en temas técnicos.\n",
    "\n",
    "TinyLlama-1.1B-32k-Instruct, en cambio, tomó 281 segundos y generó una serie de preguntas sobre la energía nuclear en lugar de una respuesta directa. Esto indica que el modelo fue entrenado para brindar respuestas en formato instructivo o educativo, pero no pudo enfocarse en el contenido específico del prompt. A pesar de tener un vocabulario más amplio, la falta de precisión en la respuesta afectó su utilidad.\n",
    "\n",
    "TinyLlama v1.1, con un tiempo de respuesta intermedio (74 segundos), logró una explicación más directa, mencionando que la fisión es un proceso de división de átomos y la fusión de combinación de núcleos. Sin embargo, la respuesta fue imprecisa, especialmente al decir que la fusión no produce calor, cuando en realidad libera una gran cantidad de energía. En conjunto, estos modelos muestran limitaciones en precisión y coherencia en temas científicos, a diferencia de modelos más grandes que requieren más recursos, pero ofrecen respuestas más confiables."
   ]
  }
 ],
 "metadata": {
  "colab": {
   "provenance": [],
   "toc_visible": true
  },
  "kernelspec": {
   "display_name": "Python 3",
   "name": "python3"
  },
  "language_info": {
   "name": "python"
  }
 },
 "nbformat": 4,
 "nbformat_minor": 0
}
